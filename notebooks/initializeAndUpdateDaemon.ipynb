{
 "cells": [
  {
   "cell_type": "code",
   "execution_count": 10,
   "metadata": {
    "collapsed": true
   },
   "outputs": [],
   "source": [
    "from lib import send_filter_details, make_filter, size_hash_calc\n",
    "import os\n",
    "import time\n",
    "import sys"
   ]
  },
  {
   "cell_type": "code",
   "execution_count": 8,
   "metadata": {
    "collapsed": true
   },
   "outputs": [],
   "source": [
    "def make_cache_list():\n",
    "    cache_list = os.listdir('cache')\n",
    "    return cache_list"
   ]
  },
  {
   "cell_type": "code",
   "execution_count": 11,
   "metadata": {},
   "outputs": [],
   "source": [
    "def main(update_time, prob):\n",
    "    while True:\n",
    "        cache_list = make_cache_list()\n",
    "        size, hashes = size_hash_calc(len(cache_list), prob)\n",
    "        own_summary = make_filter(cache_list, size, hashes)\n",
    "        send_filter_details(own_summary, size, hashes)\n",
    "        time.sleep(update_time)"
   ]
  },
  {
   "cell_type": "code",
   "execution_count": 17,
   "metadata": {},
   "outputs": [
    {
     "name": "stdout",
     "output_type": "stream",
     "text": [
      "-f /run/user/1000/jupyter/kernel-c646e86b-206d-4dd8-a452-57dab32a3acf.json\n"
     ]
    }
   ],
   "source": [
    "if __name__==\"__main__\":\n",
    "    print sys.argv[1], sys.argv[2]"
   ]
  }
 ],
 "metadata": {
  "kernelspec": {
   "display_name": "Python 2",
   "language": "python",
   "name": "python2"
  },
  "language_info": {
   "codemirror_mode": {
    "name": "ipython",
    "version": 2
   },
   "file_extension": ".py",
   "mimetype": "text/x-python",
   "name": "python",
   "nbconvert_exporter": "python",
   "pygments_lexer": "ipython2",
   "version": "2.7.12"
  }
 },
 "nbformat": 4,
 "nbformat_minor": 2
}
