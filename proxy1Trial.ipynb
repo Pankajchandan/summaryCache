{
 "cells": [
  {
   "cell_type": "code",
   "execution_count": 1,
   "metadata": {
    "collapsed": true
   },
   "outputs": [],
   "source": [
    "import BaseHTTPServer\n",
    "import os\n",
    "import socket\n",
    "from threading import Thread\n",
    "from multiprocessing import Process, Manager\n",
    "import sys\n",
    "import pickle\n",
    "from bitarray import bitarray\n",
    "from lib import check_filter_list\n",
    "import time"
   ]
  },
  {
   "cell_type": "code",
   "execution_count": 2,
   "metadata": {
    "collapsed": true
   },
   "outputs": [],
   "source": [
    "def load_backup(filename):\n",
    "    print \"loading summary cache from backup file: \",filename\n",
    "    with open(filename, 'rb') as save:\n",
    "         return pickle.load(save)"
   ]
  },
  {
   "cell_type": "code",
   "execution_count": 3,
   "metadata": {
    "collapsed": true
   },
   "outputs": [],
   "source": [
    "class RequestHandler(BaseHTTPServer.BaseHTTPRequestHandler):\n",
    "    \n",
    "    # Handle a GET request.\n",
    "    def do_GET(self):\n",
    "        try:\n",
    "            ## figure out cache folder name\n",
    "            cache_name = self.path.split(\"/\")[2]\n",
    "            # Figure out what exactly is being requested.\n",
    "            full_path = os.getcwd()+\"/cache/\"+cache_name+\"/\"+\"index.html\"\n",
    "            \n",
    "            # It doesn't exist...i.e not in the localcache\n",
    "            if not os.path.exists(full_path):\n",
    "                print \"not found in local cache\"\n",
    "                raise ServerException(\"'{0}' not found\".format(self.path))\n",
    "                \n",
    "            # ...if the file exists in cache\n",
    "            elif os.path.isfile(full_path):\n",
    "                self.handle_file(full_path)\n",
    "            \n",
    "            # ...it's something we don't handle.\n",
    "            else:\n",
    "                raise ServerException(\"Unknown object '{0}'\".format(self.path))\n",
    "                \n",
    "        # Handle errors.\n",
    "        except Exception as msg:\n",
    "            self.handle_error(msg)\n",
    "    \n",
    "    def handle_file(self, full_path):\n",
    "        try:\n",
    "            with open(full_path, 'rb') as reader:\n",
    "                content = reader.read()\n",
    "            self.send_content(content)\n",
    "        except IOError as msg:\n",
    "            msg = \"'{0}' cannot be read: {1}\".format(self.path, msg)\n",
    "            self.handle_error(msg)\n",
    "    \n",
    "    Error_Page = \"\"\"\\\n",
    "        <html>\n",
    "        <body>\n",
    "        <h1>Error accessing {path}</h1>\n",
    "        <p>{msg}</p>\n",
    "        </body>\n",
    "        </html>\n",
    "        \"\"\"\n",
    "\n",
    "    def handle_error(self, msg):\n",
    "        content = self.Error_Page.format(path=self.path, msg=msg)\n",
    "        self.send_content(content)\n",
    "    \n",
    "    # Handle unknown objects.\n",
    "    def handle_error(self, msg):\n",
    "        content = self.Error_Page.format(path=self.path, msg=msg)\n",
    "        self.send_content(content, 404)\n",
    "\n",
    "    # Send actual content.\n",
    "    def send_content(self, content, status=200):\n",
    "        self.send_response(status)\n",
    "        self.send_header(\"Content-type\", \"text/html\")\n",
    "        self.send_header(\"Content-Length\", str(len(content)))\n",
    "        self.end_headers()\n",
    "        self.wfile.write(content)"
   ]
  },
  {
   "cell_type": "code",
   "execution_count": 4,
   "metadata": {
    "collapsed": true
   },
   "outputs": [],
   "source": [
    "# Run local tcp sever at port 9000\n",
    "def run_port(sock,filter_dict):\n",
    "    print \"listening to TCP connections at port 9000......\\n\"\n",
    "    while True:\n",
    "        connection, client_address = sock.accept()\n",
    "        print \"connection from: \", client_address\n",
    "        thread_add_filter = Thread(target = add_filter, args = (connection, client_address,filter_dict))\n",
    "        thread_add_filter.start()\n",
    "    \n",
    "# method to add filters to dictionary\n",
    "def add_filter(connection, client_address, filter_dict):\n",
    "    data = connection.recv(4096)\n",
    "    index_list = data.decode('utf-8') \n",
    "    filter_dict[client_address[0]] = index_data\n",
    "    connection.close()\n",
    "    print filter_dict"
   ]
  },
  {
   "cell_type": "code",
   "execution_count": 5,
   "metadata": {},
   "outputs": [
    {
     "name": "stdout",
     "output_type": "stream",
     "text": [
      "initial filterdict has:  {}\n",
      "port opened at 9000\n",
      "listening to TCP connections at port 9000......\n",
      "\n",
      "running http server on port 8080\n",
      " \n",
      "connection from:  ('127.0.0.1', 58592)\n"
     ]
    },
    {
     "name": "stderr",
     "output_type": "stream",
     "text": [
      "Exception in thread Thread-4:\n",
      "Traceback (most recent call last):\n",
      "  File \"/usr/lib/python2.7/threading.py\", line 801, in __bootstrap_inner\n",
      "    self.run()\n",
      "  File \"/usr/lib/python2.7/threading.py\", line 754, in run\n",
      "    self.__target(*self.__args, **self.__kwargs)\n",
      "  File \"<ipython-input-4-89d4158be99f>\", line 14, in add_filter\n",
      "    filter_dict[client_address[0]] = index_data\n",
      "NameError: global name 'index_data' is not defined\n",
      "\n"
     ]
    },
    {
     "name": "stdout",
     "output_type": "stream",
     "text": [
      "writing this to file: "
     ]
    },
    {
     "ename": "IOError",
     "evalue": "[Errno 104] Connection reset by peer",
     "output_type": "error",
     "traceback": [
      "\u001b[0;31m---------------------------------------------------------------------------\u001b[0m",
      "\u001b[0;31mIOError\u001b[0m                                   Traceback (most recent call last)",
      "\u001b[0;32m<ipython-input-5-965822efc812>\u001b[0m in \u001b[0;36m<module>\u001b[0;34m()\u001b[0m\n\u001b[1;32m     23\u001b[0m     \u001b[0;32mexcept\u001b[0m \u001b[0mKeyboardInterrupt\u001b[0m\u001b[0;34m:\u001b[0m\u001b[0;34m\u001b[0m\u001b[0m\n\u001b[1;32m     24\u001b[0m         \u001b[0mprocess_run_port\u001b[0m\u001b[0;34m.\u001b[0m\u001b[0mterminate\u001b[0m\u001b[0;34m(\u001b[0m\u001b[0;34m)\u001b[0m\u001b[0;34m\u001b[0m\u001b[0m\n\u001b[0;32m---> 25\u001b[0;31m         \u001b[0;32mprint\u001b[0m \u001b[0;34m\"writing this to file: \"\u001b[0m\u001b[0;34m,\u001b[0m \u001b[0mdict\u001b[0m\u001b[0;34m(\u001b[0m\u001b[0mfilter_dict\u001b[0m\u001b[0;34m)\u001b[0m\u001b[0;34m\u001b[0m\u001b[0m\n\u001b[0m\u001b[1;32m     26\u001b[0m         \u001b[0;32mprint\u001b[0m \u001b[0;34m\"saving filter before terminating\"\u001b[0m\u001b[0;34m\u001b[0m\u001b[0m\n\u001b[1;32m     27\u001b[0m         \u001b[0;32mwith\u001b[0m \u001b[0mopen\u001b[0m\u001b[0;34m(\u001b[0m\u001b[0;34m\"backup.pickle\"\u001b[0m\u001b[0;34m,\u001b[0m \u001b[0;34m'wb'\u001b[0m\u001b[0;34m)\u001b[0m \u001b[0;32mas\u001b[0m \u001b[0msave\u001b[0m\u001b[0;34m:\u001b[0m\u001b[0;34m\u001b[0m\u001b[0m\n",
      "\u001b[0;32m<string>\u001b[0m in \u001b[0;36mkeys\u001b[0;34m(self, *args, **kwds)\u001b[0m\n",
      "\u001b[0;32m/usr/lib/python2.7/multiprocessing/managers.py\u001b[0m in \u001b[0;36m_callmethod\u001b[0;34m(self, methodname, args, kwds)\u001b[0m\n\u001b[1;32m    757\u001b[0m \u001b[0;34m\u001b[0m\u001b[0m\n\u001b[1;32m    758\u001b[0m         \u001b[0mconn\u001b[0m\u001b[0;34m.\u001b[0m\u001b[0msend\u001b[0m\u001b[0;34m(\u001b[0m\u001b[0;34m(\u001b[0m\u001b[0mself\u001b[0m\u001b[0;34m.\u001b[0m\u001b[0m_id\u001b[0m\u001b[0;34m,\u001b[0m \u001b[0mmethodname\u001b[0m\u001b[0;34m,\u001b[0m \u001b[0margs\u001b[0m\u001b[0;34m,\u001b[0m \u001b[0mkwds\u001b[0m\u001b[0;34m)\u001b[0m\u001b[0;34m)\u001b[0m\u001b[0;34m\u001b[0m\u001b[0m\n\u001b[0;32m--> 759\u001b[0;31m         \u001b[0mkind\u001b[0m\u001b[0;34m,\u001b[0m \u001b[0mresult\u001b[0m \u001b[0;34m=\u001b[0m \u001b[0mconn\u001b[0m\u001b[0;34m.\u001b[0m\u001b[0mrecv\u001b[0m\u001b[0;34m(\u001b[0m\u001b[0;34m)\u001b[0m\u001b[0;34m\u001b[0m\u001b[0m\n\u001b[0m\u001b[1;32m    760\u001b[0m \u001b[0;34m\u001b[0m\u001b[0m\n\u001b[1;32m    761\u001b[0m         \u001b[0;32mif\u001b[0m \u001b[0mkind\u001b[0m \u001b[0;34m==\u001b[0m \u001b[0;34m'#RETURN'\u001b[0m\u001b[0;34m:\u001b[0m\u001b[0;34m\u001b[0m\u001b[0m\n",
      "\u001b[0;31mIOError\u001b[0m: [Errno 104] Connection reset by peer"
     ]
    }
   ],
   "source": [
    "if __name__ == '__main__':\n",
    "    try:\n",
    "        manager = Manager()\n",
    "        filter_dict = manager.dict()\n",
    "        print \"initial filterdict has: \", filter_dict\n",
    "        if os.path.isfile(\"backup.pickle\"):\n",
    "            filter_dict = load_backup(\"backup.picke\")\n",
    "            \n",
    "        sock = socket.socket(socket.AF_INET, socket.SOCK_STREAM)\n",
    "        sock.setsockopt(socket.SOL_SOCKET, socket.SO_REUSEADDR, 1)\n",
    "        server_address = ('localhost', 9000)\n",
    "        sock.bind(server_address)\n",
    "        sock.listen(1)\n",
    "        print \"port opened at 9000\"\n",
    "        ## spawn a new process to listen in a loop\n",
    "        process_run_port = Process(target = run_port, args = (sock,filter_dict))\n",
    "        process_run_port.start()\n",
    "        print \"running http server on port 8080\\n \"\n",
    "        serverAddress = ('', 8080)\n",
    "        server = BaseHTTPServer.HTTPServer(serverAddress, RequestHandler)\n",
    "        server.serve_forever()\n",
    "        \n",
    "    except KeyboardInterrupt:\n",
    "        process_run_port.terminate()\n",
    "        print \"writing this to file: \", dict(filter_dict)\n",
    "        print \"saving filter before terminating\"\n",
    "        with open(\"backup.pickle\", 'wb') as save:\n",
    "            pickle.dump(dict(filter_dict),save)\n",
    "        sock.close()\n",
    "        server.socket.close()\n",
    "        print \"port terminated at 9000...\\n\"\n",
    "        print \"http server terminated...\"\n",
    "        pass"
   ]
  },
  {
   "cell_type": "code",
   "execution_count": 48,
   "metadata": {},
   "outputs": [
    {
     "name": "stdout",
     "output_type": "stream",
     "text": [
      "loading summary cache from backup file:  backup.txt\n"
     ]
    },
    {
     "data": {
      "text/plain": [
       "{'127.0.0.1': [bitarray('1101010011'), 10.0, 7.0]}"
      ]
     },
     "execution_count": 48,
     "metadata": {},
     "output_type": "execute_result"
    }
   ],
   "source": [
    "load_backup(\"backup.txt\")"
   ]
  },
  {
   "cell_type": "code",
   "execution_count": 9,
   "metadata": {
    "collapsed": true
   },
   "outputs": [],
   "source": [
    "sock.close()"
   ]
  },
  {
   "cell_type": "code",
   "execution_count": null,
   "metadata": {
    "collapsed": true
   },
   "outputs": [],
   "source": []
  }
 ],
 "metadata": {
  "kernelspec": {
   "display_name": "Python 2",
   "language": "python",
   "name": "python2"
  },
  "language_info": {
   "codemirror_mode": {
    "name": "ipython",
    "version": 2
   },
   "file_extension": ".py",
   "mimetype": "text/x-python",
   "name": "python",
   "nbconvert_exporter": "python",
   "pygments_lexer": "ipython2",
   "version": "2.7.12"
  }
 },
 "nbformat": 4,
 "nbformat_minor": 2
}
