{
 "cells": [
  {
   "cell_type": "code",
   "execution_count": 35,
   "metadata": {},
   "outputs": [],
   "source": [
    "import mmh3\n",
    "import os\n",
    "from bitarray import bitarray\n",
    "import math"
   ]
  },
  {
   "cell_type": "code",
   "execution_count": 18,
   "metadata": {
    "collapsed": true
   },
   "outputs": [],
   "source": [
    "## method to make a bloom filter , list_param = list of things, \n",
    "## size = size of filter, no_of_hashes = no of hashes\n",
    "def make_filter(list_param, size, no_of_hashes):\n",
    "    bit_array = bitarray(size)\n",
    "    bit_array.setall(0)\n",
    "    hash_num = 41\n",
    "    \n",
    "    for url in list_param:\n",
    "        for i in range(no_of_hashes):\n",
    "            bit = mmh3.hash(url, hash_num+i) % size\n",
    "            bit_array[bit] = 1\n",
    "    \n",
    "    return bit_array"
   ]
  },
  {
   "cell_type": "code",
   "execution_count": 26,
   "metadata": {
    "collapsed": true
   },
   "outputs": [],
   "source": [
    "## method to check if thing is present in bloom filter , bit_array = bloom filter, \n",
    "## size = size of filter, no_of_hashes = no of hashes, url = object to check\n",
    "def check_filter(bit_array, size, no_of_hashes, url):\n",
    "    bit_list = []\n",
    "    hash_num = 41\n",
    "    for i in range(no_of_hashes):\n",
    "        bit_list.append(mmh3.hash(url, hash_num+i) % size)\n",
    "    for bit in bit_list:\n",
    "        if bit_array[bit] == False:\n",
    "            return False\n",
    "    return True"
   ]
  },
  {
   "cell_type": "code",
   "execution_count": 43,
   "metadata": {
    "collapsed": true
   },
   "outputs": [],
   "source": [
    "##method to calculate size of a bloom filter and no of hashes required given the no of items and FP probability\n",
    "def size_hash_calc(items,prob):\n",
    "    size = math.ceil((items * math.log(prob)) / math.log(1.0 / (pow(2.0, math.log(2.0)))))\n",
    "    hashes = round(math.log(2.0) * size / items)\n",
    "    return size, hashes"
   ]
  },
  {
   "cell_type": "code",
   "execution_count": 97,
   "metadata": {
    "collapsed": true
   },
   "outputs": [],
   "source": [
    "## method to fetch all the proxies avilable \n",
    "## returns a list\n",
    "def fetch_proxy_list():\n",
    "    file = open(\"proxy_list.txt\", \"r\")\n",
    "    proxy_list = [line[:-1] for line in file]\n",
    "    file.close()\n",
    "    return proxy_list[:-1]"
   ]
  }
 ],
 "metadata": {
  "kernelspec": {
   "display_name": "Python 2",
   "language": "python",
   "name": "python2"
  },
  "language_info": {
   "codemirror_mode": {
    "name": "ipython",
    "version": 2
   },
   "file_extension": ".py",
   "mimetype": "text/x-python",
   "name": "python",
   "nbconvert_exporter": "python",
   "pygments_lexer": "ipython2",
   "version": "2.7.12"
  }
 },
 "nbformat": 4,
 "nbformat_minor": 2
}
