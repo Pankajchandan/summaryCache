{
 "cells": [
  {
   "cell_type": "code",
   "execution_count": 1,
   "metadata": {
    "collapsed": true
   },
   "outputs": [],
   "source": [
    "import mmh3\n",
    "import os\n",
    "from bitarray import bitarray\n",
    "import math\n",
    "import socket\n",
    "import sys\n",
    "import pickle"
   ]
  },
  {
   "cell_type": "code",
   "execution_count": 2,
   "metadata": {
    "collapsed": true
   },
   "outputs": [],
   "source": [
    "## method to make a bloom filter , list_param = list of things, \n",
    "## size = size of filter, no_of_hashes = no of hashes\n",
    "def make_filter(list_param, size, no_of_hashes):\n",
    "    bit_array = bitarray(size)\n",
    "    bit_array.setall(0)\n",
    "    hash_num = 41\n",
    "    print \"building own summary...\"\n",
    "    for url in list_param:\n",
    "        for i in range(no_of_hashes):\n",
    "            bit = mmh3.hash(url, hash_num+i) % size\n",
    "            bit_array[bit] = 1\n",
    "    \n",
    "    return bit_array"
   ]
  },
  {
   "cell_type": "code",
   "execution_count": 3,
   "metadata": {
    "collapsed": true
   },
   "outputs": [],
   "source": [
    "## method to check if thing is present in bloom filter , bit_array = bloom filter, \n",
    "## size = size of filter(no of bits), no_of_hashes = no of hashes, url = object to check\n",
    "def check_filter(bit_array, size, no_of_hashes, url):\n",
    "    bit_list = []\n",
    "    hash_num = 41\n",
    "    for i in range(no_of_hashes):\n",
    "        bit_list.append(mmh3.hash(url, hash_num+i) % size)\n",
    "    for bit in bit_list:\n",
    "        if bit_array[bit] == False:\n",
    "            return False\n",
    "    return True"
   ]
  },
  {
   "cell_type": "code",
   "execution_count": 4,
   "metadata": {
    "collapsed": true
   },
   "outputs": [],
   "source": [
    "## method to iterate check_filter over all the proxies\n",
    "def check_filter_list(filter_dict, url):\n",
    "    ## list all the proxies that might have the URl\n",
    "    proxy_true_list = []\n",
    "    print \"checking in summary cache dictionary\"\n",
    "    for key, value in filter_dict.items():\n",
    "        if check_filter(value[0], value[1], value[2], url):\n",
    "            print \"found a hit in: \",key\n",
    "            proxy_true_list.append(key)\n",
    "    return proxy_true_list"
   ]
  },
  {
   "cell_type": "code",
   "execution_count": 5,
   "metadata": {
    "collapsed": true
   },
   "outputs": [],
   "source": [
    "##method to calculate size of a bloom filter and no of hashes required given the no of items and FP probability\n",
    "def size_hash_calc(items,prob):\n",
    "    size = math.ceil((items * math.log(prob)) / math.log(1.0 / (pow(2.0, math.log(2.0)))))\n",
    "    hashes = round(math.log(2.0) * size / items)\n",
    "    print \"size and no of hashes calculated\"\n",
    "    return size, hashes"
   ]
  },
  {
   "cell_type": "code",
   "execution_count": 6,
   "metadata": {
    "collapsed": true
   },
   "outputs": [],
   "source": [
    "## method to fetch all the proxies avilable \n",
    "## returns a list\n",
    "def fetch_proxy_list():\n",
    "    file = open(\"proxy_list.txt\", \"r\")\n",
    "    proxy_list = [line[:-1] for line in file]\n",
    "    file.close()\n",
    "    print \"proxy list fetched from proxy_list.txt\"\n",
    "    return proxy_list[:-1]"
   ]
  },
  {
   "cell_type": "code",
   "execution_count": 7,
   "metadata": {
    "collapsed": true
   },
   "outputs": [],
   "source": [
    "## send an object to all remote proxies\n",
    "def send_filter_details(bit_array, size, no_of_hashes):\n",
    "    ## fetch list of proxies to send\n",
    "    proxy_list = fetch_proxy_list()\n",
    "    ## make a list of filter,size,no_of_hashes\n",
    "    index_list = [bit_array, size, no_of_hashes]\n",
    "    ## serialize the object into string using pickle\n",
    "    index_list_srl = pickle.dumps(index_list)\n",
    "    ## Create a TCP/IP socket\n",
    "    sock = socket.socket(socket.AF_INET, socket.SOCK_STREAM)\n",
    "    ## Connect the socket to the port where the server is listening\n",
    "    print \"sending own summary to all the proxies online\"\n",
    "    for item in proxy_list:\n",
    "        server_address = (item, 9000)\n",
    "        print ('connecting to %s port %s' % server_address)\n",
    "        try:\n",
    "            sock.connect(server_address)\n",
    "            sock.sendall(index_list_srl.encode('utf-8'))\n",
    "            sock.close()\n",
    "            print \"sent own summary to: \",item\n",
    "        except socket.error:\n",
    "            print \"proxy offline: \",item"
   ]
  }
 ],
 "metadata": {
  "kernelspec": {
   "display_name": "Python 2",
   "language": "python",
   "name": "python2"
  },
  "language_info": {
   "codemirror_mode": {
    "name": "ipython",
    "version": 2
   },
   "file_extension": ".py",
   "mimetype": "text/x-python",
   "name": "python",
   "nbconvert_exporter": "python",
   "pygments_lexer": "ipython2",
   "version": "2.7.12"
  }
 },
 "nbformat": 4,
 "nbformat_minor": 2
}
