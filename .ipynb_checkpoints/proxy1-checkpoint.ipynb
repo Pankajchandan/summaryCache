{
 "cells": [
  {
   "cell_type": "code",
   "execution_count": 6,
   "metadata": {
    "collapsed": true
   },
   "outputs": [],
   "source": [
    "import BaseHTTPServer\n",
    "import os\n",
    "import socket\n",
    "from threading import Thread\n",
    "from multiprocessing import Process, Manager\n",
    "import sys\n",
    "import pickle\n",
    "from bitarray import bitarray\n",
    "from lib import check_filter_list\n",
    "import requests"
   ]
  },
  {
   "cell_type": "code",
   "execution_count": 7,
   "metadata": {
    "collapsed": true
   },
   "outputs": [],
   "source": [
    "def load_backup(filename):\n",
    "    print \"loading summary cache from backup file: \",filename\n",
    "    with open(filename, 'r') as save:\n",
    "         return pickle.loads(save.read())"
   ]
  },
  {
   "cell_type": "code",
   "execution_count": 8,
   "metadata": {
    "collapsed": true
   },
   "outputs": [],
   "source": [
    "class RequestHandler(BaseHTTPServer.BaseHTTPRequestHandler):\n",
    "    \n",
    "    def __init__(self):\n",
    "        self.sentflag = 0\n",
    "        self.falsepositive = 0\n",
    "        \n",
    "    # Handle a GET request.\n",
    "    def do_GET(self):\n",
    "        try:\n",
    "            ## figure out cache folder name\n",
    "            cache_name = self.path.split(\"/\")[2]\n",
    "            \n",
    "            # Figure out what exactly is being requested. This is the full path where file should exist\n",
    "            full_path = os.getcwd()+\"/cache/\"+cache_name+\"/\"+\"index.html\"\n",
    "            \n",
    "            # It doesn't exist...i.e not in the localcache\n",
    "            if not os.path.exists(full_path):\n",
    "                print \"not found in local cache\"\n",
    "                print \"checking summary caches...\"\n",
    "                filter_dict = load_backup(\"backup.txt\")\n",
    "                proxy_true_list = check_filter_list(filter_dict, cache_name)\n",
    "                \n",
    "                if len(proxy_true_list) is 0:\n",
    "                    print \"no hits found in summary cache...sending request to default gateway...\"\n",
    "                    content = \"serving from internet\"\n",
    "                    self.send_content(content)\n",
    "                else:\n",
    "                    print \"found hits in the following proxies: \"\n",
    "                    for proxy in proxy_true_list:\n",
    "                        print proxy\n",
    "                    for proxy in proxy_true_list:\n",
    "                        if self.sendflag ==1:\n",
    "                            break\n",
    "                        else:\n",
    "                            self.request_proxy(proxy,cache_name)\n",
    "                    self.sendflag = 0\n",
    "                \n",
    "            # ...if the file exists in cache\n",
    "            elif os.path.isfile(full_path):\n",
    "                self.handle_file(full_path)\n",
    "            \n",
    "            # ...it's something we don't handle.\n",
    "            else:\n",
    "                raise ServerException(\"Unknown object '{0}'\".format(self.path))\n",
    "                \n",
    "        # Handle errors.\n",
    "        except Exception as msg:\n",
    "            self.handle_error(msg)\n",
    "    \n",
    "    def handle_file(self, full_path):\n",
    "        try:\n",
    "            with open(full_path, 'rb') as reader:\n",
    "                content = reader.read()\n",
    "            self.send_content(content)\n",
    "        except IOError as msg:\n",
    "            msg = \"'{0}' cannot be read: {1}\".format(self.path, msg)\n",
    "            self.handle_error(msg)\n",
    "    \n",
    "    Error_Page = \"\"\"\\\n",
    "        <html>\n",
    "        <body>\n",
    "        <h1>Error accessing {path}</h1>\n",
    "        <p>{msg}</p>\n",
    "        </body>\n",
    "        </html>\n",
    "        \"\"\"\n",
    "\n",
    "    def handle_error(self, msg):\n",
    "        content = self.Error_Page.format(path=self.path, msg=msg)\n",
    "        self.send_content(content)\n",
    "    \n",
    "    # Handle unknown objects.\n",
    "    def handle_error(self, msg):\n",
    "        content = self.Error_Page.format(path=self.path, msg=msg)\n",
    "        self.send_content(content, 404)\n",
    "\n",
    "    # Send actual content.\n",
    "    def send_content(self, content, status=200):\n",
    "        self.send_response(status)\n",
    "        self.send_header(\"Content-type\", \"text/html\")\n",
    "        self.send_header(\"Content-Length\", str(len(content)))\n",
    "        self.end_headers()\n",
    "        self.wfile.write(content)\n",
    "        \n",
    "    def request_proxy(proxy, cache_name):\n",
    "        proxies = {\n",
    "          'http': 'http://'+proxy+':8080',\n",
    "          'https': 'http://'+proxy+':8080',\n",
    "        }\n",
    "        response = requests.get(self.path,proxies=proxies)\n",
    "        if response.status_code == \"400\":\n",
    "            self.falsepositive = self.falsepositive+1\n",
    "            print \"false positive from \",proxy\n",
    "        else:\n",
    "            self.send_content(response.text)\n",
    "            print \"content sent to client....\"\n",
    "            self.sendflag = 1\n",
    "        "
   ]
  },
  {
   "cell_type": "code",
   "execution_count": 9,
   "metadata": {
    "collapsed": true
   },
   "outputs": [],
   "source": [
    "# Run local tcp sever at port 9000\n",
    "def run_port(sock):\n",
    "    print \"listening to TCP connections at port 9000......\\n\"\n",
    "    while True:\n",
    "        connection, client_address = sock.accept()\n",
    "        print \"connection from: \", client_address\n",
    "        thread_add_filter = Thread(target = add_filter, args = (connection, client_address))\n",
    "        thread_add_filter.start()\n",
    "    \n",
    "# method to add filters to dictionary\n",
    "def add_filter(connection, client_address):\n",
    "    filter_dict = {}\n",
    "    data = connection.recv(4096)\n",
    "    index_list = data.decode('utf-8') \n",
    "    index_data  = pickle.loads(index_list)\n",
    "    if os.path.isfile(\"backup.txt\"):\n",
    "            filter_dict = load_backup(\"backup.txt\")\n",
    "    filter_dict[client_address[0]] = index_data\n",
    "    connection.close()\n",
    "    print filter_dict\n",
    "    with open('backup.txt', 'w') as save:\n",
    "            save.write(pickle.dumps(filter_dict))\n",
    "        "
   ]
  },
  {
   "cell_type": "code",
   "execution_count": 10,
   "metadata": {},
   "outputs": [
    {
     "name": "stdout",
     "output_type": "stream",
     "text": [
      "port opened at 9000\n",
      "listening to TCP connections at port 9000......\n",
      "\n",
      "running http server on port 8080\n",
      " \n",
      "not found in local cache\n",
      "checking summary caches...\n",
      "loading summary cache from backup file:  backup.txt\n",
      "checking in summary cache dictionary\n",
      "bit_list:  [9, 9, 2, 3, 8, 4, 6]\n",
      "no hits found in summary cache...sending request to default gateway...\n"
     ]
    },
    {
     "name": "stderr",
     "output_type": "stream",
     "text": [
      "127.0.0.1 - - [26/Sep/2017 00:13:07] \"GET http://www.amazon1.com/ HTTP/1.1\" 200 -\n"
     ]
    },
    {
     "name": "stdout",
     "output_type": "stream",
     "text": [
      "port terminated at 9000...\n",
      "\n",
      "http server terminated...\n"
     ]
    }
   ],
   "source": [
    "if __name__ == '__main__':\n",
    "    try:\n",
    "        sock = socket.socket(socket.AF_INET, socket.SOCK_STREAM)\n",
    "        sock.setsockopt(socket.SOL_SOCKET, socket.SO_REUSEADDR, 1)\n",
    "        server_address = ('localhost', 9000)\n",
    "        sock.bind(server_address)\n",
    "        sock.listen(1)\n",
    "        print \"port opened at 9000\"\n",
    "        ## spawn a new process to listen in a loop\n",
    "        process_run_port = Process(target = run_port, args = (sock,))\n",
    "        process_run_port.start()\n",
    "        print \"running http server on port 8080\\n \"\n",
    "        serverAddress = ('', 8080)\n",
    "        server = BaseHTTPServer.HTTPServer(serverAddress, RequestHandler)\n",
    "        server.serve_forever()\n",
    "        \n",
    "    except KeyboardInterrupt:\n",
    "        process_run_port.terminate()\n",
    "        sock.close()\n",
    "        process_run_port.terminate()\n",
    "        print \"port terminated at 9000...\\n\"\n",
    "        print \"http server terminated...\"\n",
    "        server.socket.close()\n",
    "        pass"
   ]
  },
  {
   "cell_type": "code",
   "execution_count": 48,
   "metadata": {},
   "outputs": [
    {
     "name": "stdout",
     "output_type": "stream",
     "text": [
      "loading summary cache from backup file:  backup.txt\n"
     ]
    },
    {
     "data": {
      "text/plain": [
       "{'127.0.0.1': [bitarray('1101010011'), 10.0, 7.0]}"
      ]
     },
     "execution_count": 48,
     "metadata": {},
     "output_type": "execute_result"
    }
   ],
   "source": [
    "load_backup(\"backup.txt\")"
   ]
  },
  {
   "cell_type": "code",
   "execution_count": null,
   "metadata": {
    "collapsed": true
   },
   "outputs": [],
   "source": []
  }
 ],
 "metadata": {
  "kernelspec": {
   "display_name": "Python 2",
   "language": "python",
   "name": "python2"
  },
  "language_info": {
   "codemirror_mode": {
    "name": "ipython",
    "version": 3
   },
   "file_extension": ".py",
   "mimetype": "text/x-python",
   "name": "python",
   "nbconvert_exporter": "python",
   "pygments_lexer": "ipython3",
   "version": "3.5.2"
  }
 },
 "nbformat": 4,
 "nbformat_minor": 2
}
